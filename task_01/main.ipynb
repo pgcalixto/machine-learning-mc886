{
 "cells": [
  {
   "cell_type": "code",
   "execution_count": 1,
   "metadata": {},
   "outputs": [],
   "source": [
    "%matplotlib inline"
   ]
  },
  {
   "cell_type": "markdown",
   "metadata": {},
   "source": [
    "# Linear Regression task - Diamond price training"
   ]
  },
  {
   "cell_type": "markdown",
   "metadata": {},
   "source": [
    "### Imports"
   ]
  },
  {
   "cell_type": "code",
   "execution_count": 2,
   "metadata": {},
   "outputs": [
    {
     "name": "stdout",
     "output_type": "stream",
     "text": [
      "Automatically created module for IPython interactive environment\n"
     ]
    }
   ],
   "source": [
    "print(__doc__)\n",
    "\n",
    "import csv\n",
    "import matplotlib.pyplot as plt\n",
    "import numpy as np\n",
    "import pandas as pd\n",
    "from sklearn import datasets, linear_model\n",
    "from sklearn.metrics import mean_squared_error"
   ]
  },
  {
   "cell_type": "markdown",
   "metadata": {},
   "source": [
    "### CSV reading"
   ]
  },
  {
   "cell_type": "code",
   "execution_count": 3,
   "metadata": {},
   "outputs": [
    {
     "name": "stdout",
     "output_type": "stream",
     "text": [
      "[['' 'carat' 'cut' ..., 'x' 'y' 'z']\n",
      " ['1' '0.23' 'Ideal' ..., '3.95' '3.98' '2.43']\n",
      " ['2' '0.21' 'Premium' ..., '3.89' '3.84' '2.31']\n",
      " ..., \n",
      " ['53938' '0.7' 'Very Good' ..., '5.66' '5.68' '3.56']\n",
      " ['53939' '0.86' 'Premium' ..., '6.15' '6.12' '3.74']\n",
      " ['53940' '0.75' 'Ideal' ..., '5.83' '5.87' '3.64']]\n"
     ]
    }
   ],
   "source": [
    "diamonds_data = np.array([])\n",
    "with open('diamonds.csv', 'r') as f:\n",
    "    diamonds_data = np.array(list(csv.reader(f)))\n",
    "\n",
    "print(diamonds_data)"
   ]
  },
  {
   "cell_type": "markdown",
   "metadata": {},
   "source": [
    "### Feature and target selection"
   ]
  },
  {
   "cell_type": "code",
   "execution_count": 4,
   "metadata": {},
   "outputs": [],
   "source": [
    "# for now, use only the numerical features, excluding the categorical ones\n",
    "diamonds_features_df = pd.DataFrame(diamonds_data[1:, (1, 5, 6, 8, 9, 10)])\n",
    "diamonds_target_df = pd.DataFrame(diamonds_data[1:, np.newaxis, 7])"
   ]
  },
  {
   "cell_type": "markdown",
   "metadata": {},
   "source": [
    "### Linear Regression implementation"
   ]
  },
  {
   "cell_type": "code",
   "execution_count": null,
   "metadata": {},
   "outputs": [],
   "source": [
    "def cost(example):\n",
    "    '''Calculates the cost of the data example\n",
    "\n",
    "    Calculates the cost of a data example received as tuples\n",
    "    in which the first element is the parameter value and\n",
    "    the second element is the variable value.\n",
    "\n",
    "    Arguments:\n",
    "        example (list(tuple(int, int))): List of tuples\n",
    "            containing the parameters and the variables.\n",
    "\n",
    "    Returns:\n",
    "        float: the cost of this data example.\n",
    "    '''\n",
    "    sum(param * feat for param, feat in example)\n",
    "\n",
    "\n",
    "# def descend_parameter(val):\n",
    "#     new_val = val - lrate / M * (sum (i = 1 to M) -> cost(x(i)) - y(i) * x(j)(i) )\n",
    "\n",
    "# costs = []"
   ]
  }
 ],
 "metadata": {
  "kernelspec": {
   "display_name": "Python 3",
   "language": "python",
   "name": "python3"
  },
  "language_info": {
   "codemirror_mode": {
    "name": "ipython",
    "version": 3
   },
   "file_extension": ".py",
   "mimetype": "text/x-python",
   "name": "python",
   "nbconvert_exporter": "python",
   "pygments_lexer": "ipython3",
   "version": "3.5.2"
  }
 },
 "nbformat": 4,
 "nbformat_minor": 2
}
