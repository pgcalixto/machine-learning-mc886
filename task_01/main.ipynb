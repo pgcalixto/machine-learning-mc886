{
 "cells": [
  {
   "cell_type": "code",
   "execution_count": 1,
   "metadata": {},
   "outputs": [],
   "source": [
    "%matplotlib inline"
   ]
  },
  {
   "cell_type": "markdown",
   "metadata": {},
   "source": [
    "# Linear Regression task - Diamond price training"
   ]
  },
  {
   "cell_type": "markdown",
   "metadata": {},
   "source": [
    "### Imports"
   ]
  },
  {
   "cell_type": "code",
   "execution_count": 2,
   "metadata": {},
   "outputs": [
    {
     "name": "stdout",
     "output_type": "stream",
     "text": [
      "Automatically created module for IPython interactive environment\n"
     ]
    }
   ],
   "source": [
    "print(__doc__)\n",
    "\n",
    "import csv\n",
    "import matplotlib.pyplot as plt\n",
    "import numpy as np\n",
    "import pandas as pd\n",
    "from sklearn import datasets, linear_model\n",
    "from sklearn.metrics import mean_squared_error"
   ]
  },
  {
   "cell_type": "markdown",
   "metadata": {},
   "source": [
    "### CSV reading"
   ]
  },
  {
   "cell_type": "code",
   "execution_count": 3,
   "metadata": {
    "collapsed": true
   },
   "outputs": [
    {
     "name": "stdout",
     "output_type": "stream",
     "text": [
      "(53940, 7)\n",
      "[[  326.]\n",
      " [  326.]\n",
      " [  327.]\n",
      " ..., \n",
      " [ 2757.]\n",
      " [ 2757.]\n",
      " [ 2757.]]\n"
     ]
    }
   ],
   "source": [
    "# columns 1, 5, 6, 8, 9, 10 have numerical variables\n",
    "# column 7 contains the target: diamond price\n",
    "diamonds_data = np.genfromtxt('diamonds.csv', delimiter=\",\", skip_header=1,\n",
    "                       usecols=(1, 5, 6, 8, 9, 10, 7))\n",
    "\n",
    "print(diamonds_data.shape)\n",
    "print(diamonds_data[:, np.newaxis, 6]) # target"
   ]
  },
  {
   "cell_type": "markdown",
   "metadata": {},
   "source": [
    "### Feature and target selection"
   ]
  },
  {
   "cell_type": "code",
   "execution_count": 4,
   "metadata": {
    "collapsed": true
   },
   "outputs": [
    {
     "name": "stdout",
     "output_type": "stream",
     "text": [
      "          0     1   2     3     4     5\n",
      "0      0.23  61.5  55  3.95  3.98  2.43\n",
      "1      0.21  59.8  61  3.89  3.84  2.31\n",
      "2      0.23  56.9  65  4.05  4.07  2.31\n",
      "3      0.29  62.4  58  4.20  4.23  2.63\n",
      "4      0.31  63.3  58  4.34  4.35  2.75\n",
      "5      0.24  62.8  57  3.94  3.96  2.48\n",
      "6      0.24  62.3  57  3.95  3.98  2.47\n",
      "7      0.26  61.9  55  4.07  4.11  2.53\n",
      "8      0.22  65.1  61  3.87  3.78  2.49\n",
      "9      0.23  59.4  61  4.00  4.05  2.39\n",
      "10     0.30  64.0  55  4.25  4.28  2.73\n",
      "11     0.23  62.8  56  3.93  3.90  2.46\n",
      "12     0.22  60.4  61  3.88  3.84  2.33\n",
      "13     0.31  62.2  54  4.35  4.37  2.71\n",
      "14     0.20  60.2  62  3.79  3.75  2.27\n",
      "15     0.32  60.9  58  4.38  4.42  2.68\n",
      "16     0.30  62.0  54  4.31  4.34  2.68\n",
      "17     0.30  63.4  54  4.23  4.29  2.70\n",
      "18     0.30  63.8  56  4.23  4.26  2.71\n",
      "19     0.30  62.7  59  4.21  4.27  2.66\n",
      "20     0.30  63.3  56  4.26  4.30  2.71\n",
      "21     0.23  63.8  55  3.85  3.92  2.48\n",
      "22     0.23  61.0  57  3.94  3.96  2.41\n",
      "23     0.31  59.4  62  4.39  4.43  2.62\n",
      "24     0.31  58.1  62  4.44  4.47  2.59\n",
      "25     0.23  60.4  58  3.97  4.01  2.41\n",
      "26     0.24  62.5  57  3.97  3.94  2.47\n",
      "27     0.30  62.2  57  4.28  4.30  2.67\n",
      "28     0.23  60.5  61  3.96  3.97  2.40\n",
      "29     0.23  60.9  57  3.96  3.99  2.42\n",
      "...     ...   ...  ..   ...   ...   ...\n",
      "53910  0.70  60.5  58  5.74  5.77  3.48\n",
      "53911  0.57  59.8  60  5.43  5.38  3.23\n",
      "53912  0.61  61.8  59  5.48  5.40  3.36\n",
      "53913  0.80  64.2  58  5.84  5.81  3.74\n",
      "53914  0.84  63.7  59  5.94  5.90  3.77\n",
      "53915  0.77  62.1  56  5.84  5.86  3.63\n",
      "53916  0.74  63.1  59  5.71  5.74  3.61\n",
      "53917  0.90  63.2  60  6.12  6.09  3.86\n",
      "53918  0.76  59.3  62  5.93  5.85  3.49\n",
      "53919  0.76  62.2  55  5.89  5.87  3.66\n",
      "53920  0.70  62.4  60  5.57  5.61  3.49\n",
      "53921  0.70  62.8  60  5.59  5.65  3.53\n",
      "53922  0.70  63.1  59  5.67  5.58  3.55\n",
      "53923  0.73  61.3  56  5.80  5.84  3.57\n",
      "53924  0.73  61.6  55  5.82  5.84  3.59\n",
      "53925  0.79  61.6  56  5.95  5.97  3.67\n",
      "53926  0.71  61.9  56  5.71  5.73  3.54\n",
      "53927  0.79  58.1  59  6.06  6.13  3.54\n",
      "53928  0.79  61.4  58  6.03  5.96  3.68\n",
      "53929  0.71  61.4  56  5.76  5.73  3.53\n",
      "53930  0.71  60.5  55  5.79  5.74  3.49\n",
      "53931  0.71  59.8  62  5.74  5.73  3.43\n",
      "53932  0.70  60.5  59  5.71  5.76  3.47\n",
      "53933  0.70  61.2  59  5.69  5.72  3.49\n",
      "53934  0.72  62.7  59  5.69  5.73  3.58\n",
      "53935  0.72  60.8  57  5.75  5.76  3.50\n",
      "53936  0.72  63.1  55  5.69  5.75  3.61\n",
      "53937  0.70  62.8  60  5.66  5.68  3.56\n",
      "53938  0.86  61.0  58  6.15  6.12  3.74\n",
      "53939  0.75  62.2  55  5.83  5.87  3.64\n",
      "\n",
      "[53940 rows x 6 columns]\n",
      "          0\n",
      "0       326\n",
      "1       326\n",
      "2       327\n",
      "3       334\n",
      "4       335\n",
      "5       336\n",
      "6       336\n",
      "7       337\n",
      "8       337\n",
      "9       338\n",
      "10      339\n",
      "11      340\n",
      "12      342\n",
      "13      344\n",
      "14      345\n",
      "15      345\n",
      "16      348\n",
      "17      351\n",
      "18      351\n",
      "19      351\n",
      "20      351\n",
      "21      352\n",
      "22      353\n",
      "23      353\n",
      "24      353\n",
      "25      354\n",
      "26      355\n",
      "27      357\n",
      "28      357\n",
      "29      357\n",
      "...     ...\n",
      "53910  2753\n",
      "53911  2753\n",
      "53912  2753\n",
      "53913  2753\n",
      "53914  2753\n",
      "53915  2753\n",
      "53916  2753\n",
      "53917  2753\n",
      "53918  2753\n",
      "53919  2753\n",
      "53920  2755\n",
      "53921  2755\n",
      "53922  2755\n",
      "53923  2756\n",
      "53924  2756\n",
      "53925  2756\n",
      "53926  2756\n",
      "53927  2756\n",
      "53928  2756\n",
      "53929  2756\n",
      "53930  2756\n",
      "53931  2756\n",
      "53932  2757\n",
      "53933  2757\n",
      "53934  2757\n",
      "53935  2757\n",
      "53936  2757\n",
      "53937  2757\n",
      "53938  2757\n",
      "53939  2757\n",
      "\n",
      "[53940 rows x 1 columns]\n"
     ]
    }
   ],
   "source": [
    "diamonds_features_df = pd.DataFrame(diamonds_data[:, 0:6])\n",
    "diamonds_target_df = pd.DataFrame(diamonds_data[:, np.newaxis, 6])\n",
    "\n",
    "print(diamonds_features_df)\n",
    "print(diamonds_target_df)"
   ]
  },
  {
   "cell_type": "code",
   "execution_count": null,
   "metadata": {},
   "outputs": [],
   "source": [
    "\n",
    "\n",
    "#print(diamonds_features_df)\n",
    "#print(diamonds_target_df)\n",
    "\n",
    "#print(diamonds_features_df[0:10])\n",
    "\n",
    "#print(list(enumerate(diamonds_features_df[0])))\n",
    "#print()\n",
    "\n",
    "#print(list(diamonds_features_df.iloc[0, :]))\n",
    "\n"
   ]
  },
  {
   "cell_type": "markdown",
   "metadata": {},
   "source": [
    "# Linear Regression implementation\n",
    "\n",
    "\n",
    "The main formula for the iteration steps in the Gradient Descent algorithm is\n",
    "\n",
    "$$\n",
    "\\theta_j = \\theta_j - \\alpha \\frac{1}{m}\n",
    "    \\sum_{i=1}^{m}{\\left(h_\\theta\\left(x^{\\left(i\\right)}\\right) -\n",
    "    y^{\\left(i\\right)}\\right) x_j^{\\left(i\\right)}}\n",
    "$$\n",
    "\n",
    "for all $j = 0, 1, ..., n$, $j$ being the index of the parameter, and\n",
    "$i$ being the index of the data example.\n",
    "\n",
    "$$\n",
    "\\theta_0 = \\theta_0 - \\alpha \\frac{1}{m}\n",
    "    \\sum_{i=1}^{m}{\\left(h_\\theta\\left(x^{\\left(i\\right)}\\right) -\n",
    "    y^{\\left(i\\right)}\\right) x_0^{\\left(i\\right)}}\n",
    "\\\\\n",
    "\\theta_1 = \\theta_1 - \\alpha \\frac{1}{m}\n",
    "    \\sum_{i=1}^{m}{\\left(h_\\theta\\left(x^{\\left(i\\right)}\\right) -\n",
    "    y^{\\left(i\\right)}\\right) x_1^{\\left(i\\right)}}\n",
    "\\\\\n",
    "\\theta_2 = \\theta_2 - \\alpha \\frac{1}{m}\n",
    "    \\sum_{i=1}^{m}{\\left(h_\\theta\\left(x^{\\left(i\\right)}\\right) -\n",
    "    y^{\\left(i\\right)}\\right) x_2^{\\left(i\\right)}}\n",
    "\\\\\n",
    "...\n",
    "$$\n",
    "\n",
    "We define a difference between the cost and the target, $k$, such that\n",
    "$$\n",
    "k^{\\left(i\\right)} = h_\\theta\\left(x^{\\left(i\\right)}\\right) - y^{\\left(i\\right)}\n",
    "$$\n",
    "It can be noted that $k_i$ is used repeatedly among all the\n",
    "parameter calculations. For this reason, we will calculate all the\n",
    "$k_i$ just once and use it for all parameters.\n",
    "\n",
    "$$\n",
    "\\theta_j = \\theta_j - \\alpha \\frac{1}{m}\n",
    "    \\sum_{i=1}^{m}{k^{\\left(i\\right)} ~ x_j^{\\left(i\\right)}}\n",
    "$$\n"
   ]
  },
  {
   "cell_type": "code",
   "execution_count": 10,
   "metadata": {},
   "outputs": [],
   "source": [
    "def cost(parameters, features):\n",
    "    '''Calculates the cost of the data example\n",
    "\n",
    "    Calculates the cost of a data example given the\n",
    "    current parameter values and the data example features'\n",
    "    values, using the general formula\n",
    "    \n",
    "        cost = param1 * feat1 + param2 * feat2 + ... +\n",
    "               paramM * featM\n",
    "\n",
    "    Arguments:\n",
    "        parameters (np.ndarray(float64)):\n",
    "            Current parameter values.\n",
    "        features (np.ndarray(float64)):\n",
    "            Data example features' values.\n",
    "\n",
    "    Returns:\n",
    "        float: the cost function value for the given data example.\n",
    "    '''\n",
    "    sum(param * feat for param, feat in zip(parameters, features))"
   ]
  },
  {
   "cell_type": "code",
   "execution_count": 11,
   "metadata": {},
   "outputs": [
    {
     "ename": "TypeError",
     "evalue": "unsupported operand type(s) for -: 'NoneType' and 'float'",
     "output_type": "error",
     "traceback": [
      "\u001b[0;31m---------------------------------------------------------------------------\u001b[0m",
      "\u001b[0;31mTypeError\u001b[0m                                 Traceback (most recent call last)",
      "\u001b[0;32m/usr/lib/python3/dist-packages/pandas/core/ops.py\u001b[0m in \u001b[0;36mna_op\u001b[0;34m(x, y)\u001b[0m\n\u001b[1;32m    552\u001b[0m             result = expressions.evaluate(op, str_rep, x, y,\n\u001b[0;32m--> 553\u001b[0;31m                                           raise_on_error=True, **eval_kwargs)\n\u001b[0m\u001b[1;32m    554\u001b[0m         \u001b[0;32mexcept\u001b[0m \u001b[0mTypeError\u001b[0m\u001b[0;34m:\u001b[0m\u001b[0;34m\u001b[0m\u001b[0m\n",
      "\u001b[0;32m/usr/lib/python3/dist-packages/pandas/computation/expressions.py\u001b[0m in \u001b[0;36mevaluate\u001b[0;34m(op, op_str, a, b, raise_on_error, use_numexpr, **eval_kwargs)\u001b[0m\n\u001b[1;32m    217\u001b[0m         return _evaluate(op, op_str, a, b, raise_on_error=raise_on_error,\n\u001b[0;32m--> 218\u001b[0;31m                          **eval_kwargs)\n\u001b[0m\u001b[1;32m    219\u001b[0m     \u001b[0;32mreturn\u001b[0m \u001b[0m_evaluate_standard\u001b[0m\u001b[0;34m(\u001b[0m\u001b[0mop\u001b[0m\u001b[0;34m,\u001b[0m \u001b[0mop_str\u001b[0m\u001b[0;34m,\u001b[0m \u001b[0ma\u001b[0m\u001b[0;34m,\u001b[0m \u001b[0mb\u001b[0m\u001b[0;34m,\u001b[0m \u001b[0mraise_on_error\u001b[0m\u001b[0;34m=\u001b[0m\u001b[0mraise_on_error\u001b[0m\u001b[0;34m)\u001b[0m\u001b[0;34m\u001b[0m\u001b[0m\n",
      "\u001b[0;32m/usr/lib/python3/dist-packages/pandas/computation/expressions.py\u001b[0m in \u001b[0;36m_evaluate_standard\u001b[0;34m(op, op_str, a, b, raise_on_error, **eval_kwargs)\u001b[0m\n\u001b[1;32m     70\u001b[0m         \u001b[0m_store_test_result\u001b[0m\u001b[0;34m(\u001b[0m\u001b[0;32mFalse\u001b[0m\u001b[0;34m)\u001b[0m\u001b[0;34m\u001b[0m\u001b[0m\n\u001b[0;32m---> 71\u001b[0;31m     \u001b[0;32mreturn\u001b[0m \u001b[0mop\u001b[0m\u001b[0;34m(\u001b[0m\u001b[0ma\u001b[0m\u001b[0;34m,\u001b[0m \u001b[0mb\u001b[0m\u001b[0;34m)\u001b[0m\u001b[0;34m\u001b[0m\u001b[0m\n\u001b[0m\u001b[1;32m     72\u001b[0m \u001b[0;34m\u001b[0m\u001b[0m\n",
      "\u001b[0;32m/usr/lib/python3/dist-packages/pandas/core/ops.py\u001b[0m in \u001b[0;36m<lambda>\u001b[0;34m(x, y)\u001b[0m\n\u001b[1;32m     80\u001b[0m                           default_axis=default_axis, reversed=True),\n\u001b[0;32m---> 81\u001b[0;31m         rsub=arith_method(lambda x, y: y - x, names('rsub'), op('-'),\n\u001b[0m\u001b[1;32m     82\u001b[0m                           default_axis=default_axis, reversed=True),\n",
      "\u001b[0;31mTypeError\u001b[0m: unsupported operand type(s) for -: 'NoneType' and 'float'",
      "\nDuring handling of the above exception, another exception occurred:\n",
      "\u001b[0;31mTypeError\u001b[0m                                 Traceback (most recent call last)",
      "\u001b[0;32m<ipython-input-11-388ce2f0e077>\u001b[0m in \u001b[0;36m<module>\u001b[0;34m()\u001b[0m\n\u001b[1;32m     13\u001b[0m \u001b[0;34m\u001b[0m\u001b[0m\n\u001b[1;32m     14\u001b[0m k_diff = [cost(parameters, diamonds_features_df[i]) - diamonds_target_df[i]\n\u001b[0;32m---> 15\u001b[0;31m           for i in range(data_size)]\n\u001b[0m\u001b[1;32m     16\u001b[0m \u001b[0;34m\u001b[0m\u001b[0m\n\u001b[1;32m     17\u001b[0m \u001b[0;34m\u001b[0m\u001b[0m\n",
      "\u001b[0;32m<ipython-input-11-388ce2f0e077>\u001b[0m in \u001b[0;36m<listcomp>\u001b[0;34m(.0)\u001b[0m\n\u001b[1;32m     13\u001b[0m \u001b[0;34m\u001b[0m\u001b[0m\n\u001b[1;32m     14\u001b[0m k_diff = [cost(parameters, diamonds_features_df[i]) - diamonds_target_df[i]\n\u001b[0;32m---> 15\u001b[0;31m           for i in range(data_size)]\n\u001b[0m\u001b[1;32m     16\u001b[0m \u001b[0;34m\u001b[0m\u001b[0m\n\u001b[1;32m     17\u001b[0m \u001b[0;34m\u001b[0m\u001b[0m\n",
      "\u001b[0;32m/usr/lib/python3/dist-packages/pandas/core/ops.py\u001b[0m in \u001b[0;36mwrapper\u001b[0;34m(left, right, name, na_op)\u001b[0m\n\u001b[1;32m    616\u001b[0m                 \u001b[0mlvalues\u001b[0m \u001b[0;34m=\u001b[0m \u001b[0mlvalues\u001b[0m\u001b[0;34m.\u001b[0m\u001b[0mvalues\u001b[0m\u001b[0;34m\u001b[0m\u001b[0m\n\u001b[1;32m    617\u001b[0m \u001b[0;34m\u001b[0m\u001b[0m\n\u001b[0;32m--> 618\u001b[0;31m             return left._constructor(wrap_results(na_op(lvalues, rvalues)),\n\u001b[0m\u001b[1;32m    619\u001b[0m                                      \u001b[0mindex\u001b[0m\u001b[0;34m=\u001b[0m\u001b[0mleft\u001b[0m\u001b[0;34m.\u001b[0m\u001b[0mindex\u001b[0m\u001b[0;34m,\u001b[0m \u001b[0mname\u001b[0m\u001b[0;34m=\u001b[0m\u001b[0mleft\u001b[0m\u001b[0;34m.\u001b[0m\u001b[0mname\u001b[0m\u001b[0;34m,\u001b[0m\u001b[0;34m\u001b[0m\u001b[0m\n\u001b[1;32m    620\u001b[0m                                      dtype=dtype)\n",
      "\u001b[0;32m/usr/lib/python3/dist-packages/pandas/core/ops.py\u001b[0m in \u001b[0;36mna_op\u001b[0;34m(x, y)\u001b[0m\n\u001b[1;32m    561\u001b[0m                 \u001b[0mresult\u001b[0m \u001b[0;34m=\u001b[0m \u001b[0mnp\u001b[0m\u001b[0;34m.\u001b[0m\u001b[0mempty\u001b[0m\u001b[0;34m(\u001b[0m\u001b[0mlen\u001b[0m\u001b[0;34m(\u001b[0m\u001b[0mx\u001b[0m\u001b[0;34m)\u001b[0m\u001b[0;34m,\u001b[0m \u001b[0mdtype\u001b[0m\u001b[0;34m=\u001b[0m\u001b[0mx\u001b[0m\u001b[0;34m.\u001b[0m\u001b[0mdtype\u001b[0m\u001b[0;34m)\u001b[0m\u001b[0;34m\u001b[0m\u001b[0m\n\u001b[1;32m    562\u001b[0m                 \u001b[0mmask\u001b[0m \u001b[0;34m=\u001b[0m \u001b[0mnotnull\u001b[0m\u001b[0;34m(\u001b[0m\u001b[0mx\u001b[0m\u001b[0;34m)\u001b[0m\u001b[0;34m\u001b[0m\u001b[0m\n\u001b[0;32m--> 563\u001b[0;31m                 \u001b[0mresult\u001b[0m\u001b[0;34m[\u001b[0m\u001b[0mmask\u001b[0m\u001b[0;34m]\u001b[0m \u001b[0;34m=\u001b[0m \u001b[0mop\u001b[0m\u001b[0;34m(\u001b[0m\u001b[0mx\u001b[0m\u001b[0;34m[\u001b[0m\u001b[0mmask\u001b[0m\u001b[0;34m]\u001b[0m\u001b[0;34m,\u001b[0m \u001b[0my\u001b[0m\u001b[0;34m)\u001b[0m\u001b[0;34m\u001b[0m\u001b[0m\n\u001b[0m\u001b[1;32m    564\u001b[0m             \u001b[0;32melse\u001b[0m\u001b[0;34m:\u001b[0m\u001b[0;34m\u001b[0m\u001b[0m\n\u001b[1;32m    565\u001b[0m                 \u001b[0;32mraise\u001b[0m \u001b[0mTypeError\u001b[0m\u001b[0;34m(\u001b[0m\u001b[0;34m\"{typ} cannot perform the operation {op}\"\u001b[0m\u001b[0;34m.\u001b[0m\u001b[0mformat\u001b[0m\u001b[0;34m(\u001b[0m\u001b[0mtyp\u001b[0m\u001b[0;34m=\u001b[0m\u001b[0mtype\u001b[0m\u001b[0;34m(\u001b[0m\u001b[0mx\u001b[0m\u001b[0;34m)\u001b[0m\u001b[0;34m.\u001b[0m\u001b[0m__name__\u001b[0m\u001b[0;34m,\u001b[0m\u001b[0mop\u001b[0m\u001b[0;34m=\u001b[0m\u001b[0mstr_rep\u001b[0m\u001b[0;34m)\u001b[0m\u001b[0;34m)\u001b[0m\u001b[0;34m\u001b[0m\u001b[0m\n",
      "\u001b[0;32m/usr/lib/python3/dist-packages/pandas/core/ops.py\u001b[0m in \u001b[0;36m<lambda>\u001b[0;34m(x, y)\u001b[0m\n\u001b[1;32m     79\u001b[0m         rmul=arith_method(operator.mul, names('rmul'), op('*'),\n\u001b[1;32m     80\u001b[0m                           default_axis=default_axis, reversed=True),\n\u001b[0;32m---> 81\u001b[0;31m         rsub=arith_method(lambda x, y: y - x, names('rsub'), op('-'),\n\u001b[0m\u001b[1;32m     82\u001b[0m                           default_axis=default_axis, reversed=True),\n\u001b[1;32m     83\u001b[0m         rtruediv=arith_method(lambda x, y: operator.truediv(y, x),\n",
      "\u001b[0;31mTypeError\u001b[0m: unsupported operand type(s) for -: 'NoneType' and 'float'"
     ]
    }
   ],
   "source": [
    "# this is our model, what we want to have as a final result\n",
    "parameters = [0.0, 0.0, 0.0, 0.0, 0.0, 0.0]\n",
    "\n",
    "# this is the number of data examples that we have. for this dataset: 53940\n",
    "data_size = diamonds_target_df.shape[0]\n",
    "\n",
    "#costs = np.array(examples_size * [0.0])[:, np.newaxis]\n",
    "#print(costs.shape)\n",
    "\n",
    "\n",
    "#k_diff = [cost(parameters, diamonds_features_df[i])\n",
    "#          for i in range(data_size)]\n",
    "\n",
    "k_diff = [cost(parameters, diamonds_features_df[i]) - diamonds_target_df[i]\n",
    "          for i in range(data_size)]\n",
    "\n",
    "\n",
    "#for i in range(data_size):\n",
    "#    cost_i = cost(parameters, diamonds_target_df.shape)\n"
   ]
  },
  {
   "cell_type": "code",
   "execution_count": null,
   "metadata": {},
   "outputs": [],
   "source": [
    "def cost(example):\n",
    "    '''Calculates the cost of the data example\n",
    "\n",
    "    Calculates the cost of a data example received as tuples\n",
    "    in which the first element is the parameter value and\n",
    "    the second element is the variable value.\n",
    "\n",
    "    Arguments:\n",
    "        example (list(tuple(int, int))): List of tuples\n",
    "            containing the parameters and the variables.\n",
    "\n",
    "    Returns:\n",
    "        float: the cost of this data example.\n",
    "    '''\n",
    "    sum(param * feat for param, feat in example)\n",
    "\n",
    "# def descend_parameter(val):\n",
    "#     new_val = val - lrate / M * (sum (i = 1 to M) -> cost(x(i)) - y(i) * x(j)(i) )\n",
    "\n",
    "# costs = []\n",
    "\n",
    "parameters = [0.0, 0.0, 0.0, 0.0, 0.0, 0.0]\n",
    "\n",
    "\n",
    "examples_size = diamonds_target_df.shape[0]\n",
    "\n",
    "costs = \n",
    "\n",
    "print(costs)\n"
   ]
  }
 ],
 "metadata": {
  "kernelspec": {
   "display_name": "Python 3",
   "language": "python",
   "name": "python3"
  },
  "language_info": {
   "codemirror_mode": {
    "name": "ipython",
    "version": 3
   },
   "file_extension": ".py",
   "mimetype": "text/x-python",
   "name": "python",
   "nbconvert_exporter": "python",
   "pygments_lexer": "ipython3",
   "version": "3.5.2"
  }
 },
 "nbformat": 4,
 "nbformat_minor": 2
}
